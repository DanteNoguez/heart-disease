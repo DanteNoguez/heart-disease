{
 "cells": [
  {
   "cell_type": "code",
   "execution_count": 42,
   "id": "6c18a168-1a75-485d-a780-b498727fb06f",
   "metadata": {},
   "outputs": [],
   "source": [
    "import pandas as pd\n",
    "import numpy as np\n",
    "import matplotlib.pyplot as plt \n",
    "import seaborn as sns\n",
    "from scipy.stats import ttest_ind\n",
    "from scipy.stats import f_oneway\n",
    "from statsmodels.stats.multicomp import pairwise_tukeyhsd\n",
    "from scipy.stats import chi2_contingency"
   ]
  },
  {
   "cell_type": "code",
   "execution_count": 46,
   "id": "d0401681-6a3f-4044-8fc6-7188986860d9",
   "metadata": {},
   "outputs": [
    {
     "name": "stdout",
     "output_type": "stream",
     "text": [
      "    age     sex  trestbps   chol                cp  exang  fbs  thalach  \\\n",
      "0  63.0    male     145.0  233.0    typical angina    0.0  1.0    150.0   \n",
      "1  67.0    male     160.0  286.0      asymptomatic    1.0  0.0    108.0   \n",
      "2  67.0    male     120.0  229.0      asymptomatic    1.0  0.0    129.0   \n",
      "3  37.0    male     130.0  250.0  non-anginal pain    0.0  0.0    187.0   \n",
      "4  41.0  female     130.0  204.0   atypical angina    0.0  0.0    172.0   \n",
      "\n",
      "  heart_disease  \n",
      "0       absence  \n",
      "1      presence  \n",
      "2      presence  \n",
      "3       absence  \n",
      "4       absence  \n"
     ]
    }
   ],
   "source": [
    "# Load data and inspect it\n",
    "heart = pd.read_csv('heart.txt')\n",
    "heart.to_csv(r'heart.csv', index=None)\n",
    "\n",
    "print(heart.head())"
   ]
  },
  {
   "cell_type": "code",
   "execution_count": 28,
   "id": "34561ec1-5bb9-4178-96b4-0caaabc88f08",
   "metadata": {},
   "outputs": [
    {
     "data": {
      "image/png": "[encoded data removed]",
      "text/plain": [
       "<Figure size 432x288 with 1 Axes>"
      ]
     },
     "metadata": {
      "needs_background": "light"
     },
     "output_type": "display_data"
    }
   ],
   "source": [
    "# Plot highest heart rate during exercise test vs. diagnosis\n",
    "sns.boxplot(x=heart.heart_disease, y=heart.thalach)\n",
    "plt.show()"
   ]
  },
  {
   "cell_type": "code",
   "execution_count": 32,
   "id": "e95c2a1d-84fb-4f6c-a01c-d7e903fbe889",
   "metadata": {},
   "outputs": [
    {
     "name": "stdout",
     "output_type": "stream",
     "text": [
      "-19.11905597473242\n",
      "3.456964908430172e-14\n"
     ]
    }
   ],
   "source": [
    "# Apparently there is a relationship between the variables. We will confirm it with a 2-sample T-test, threshold=0.05\n",
    "\n",
    "thalach_hd = heart.thalach[heart.heart_disease == 'presence']\n",
    "thalach_no_hd = heart.thalach[heart.heart_disease == 'absence']\n",
    "print(np.mean(thalach_hd) - np.mean(thalach_no_hd))\n",
    "\n",
    "tstat, pval = ttest_ind(thalach_hd, thalach_no_hd)\n",
    "print(pval)"
   ]
  },
  {
   "cell_type": "code",
   "execution_count": 34,
   "id": "58c10068-1172-4b95-9d68-56274e57f133",
   "metadata": {},
   "outputs": [
    {
     "data": {
      "image/png": "[encoded data removed]",
      "text/plain": [
       "<Figure size 432x288 with 1 Axes>"
      ]
     },
     "metadata": {
      "needs_background": "light"
     },
     "output_type": "display_data"
    },
    {
     "name": "stdout",
     "output_type": "stream",
     "text": [
      "0.008548268928594928\n"
     ]
    }
   ],
   "source": [
    "# In the same way, we will explore if there's a relationship between the diagnosis and trestbps\n",
    "trest_p = heart.trestbps[heart.heart_disease == 'presence']\n",
    "trest_a = heart.trestbps[heart.heart_disease == 'absence']\n",
    "\n",
    "plt.clf()\n",
    "sns.boxplot(x=heart.heart_disease, y=heart.trestbps)\n",
    "plt.show()\n",
    "\n",
    "tstat, pval2 = ttest_ind(trest_p, trest_a)\n",
    "print(pval2)"
   ]
  },
  {
   "cell_type": "code",
   "execution_count": 39,
   "id": "4075c947-30b3-443b-9f30-9d8317b5f545",
   "metadata": {},
   "outputs": [
    {
     "data": {
      "image/png": "[encoded data removed]",
      "text/plain": [
       "<Figure size 432x288 with 1 Axes>"
      ]
     },
     "metadata": {
      "needs_background": "light"
     },
     "output_type": "display_data"
    },
    {
     "name": "stdout",
     "output_type": "stream",
     "text": [
      "P value: 1.9065505247705008e-10\n",
      "           Multiple Comparison of Means - Tukey HSD, FWER=0.05           \n",
      "=========================================================================\n",
      "     group1           group2      meandiff p-adj   lower    upper  reject\n",
      "-------------------------------------------------------------------------\n",
      "    asymptomatic  atypical angina  21.7394  0.001  12.7439  30.735   True\n",
      "    asymptomatic non-anginal pain  14.7264  0.001    7.258 22.1948   True\n",
      "    asymptomatic   typical angina   15.276 0.0081   2.9702 27.5817   True\n",
      " atypical angina non-anginal pain   -7.013 0.2481 -16.7591   2.733  False\n",
      " atypical angina   typical angina  -6.4635 0.6069 -20.2707  7.3438  False\n",
      "non-anginal pain   typical angina   0.5495    0.9  -12.315 13.4141  False\n",
      "-------------------------------------------------------------------------\n"
     ]
    }
   ],
   "source": [
    "# Now we analyze the relationship between thalach and cp. Since we have more than two categorical variables and the standard deviations\n",
    "# of the groups are very similar, we will use an ANOVA test to see if the relationship between the variables is statistically significant and a\n",
    "#  Tukey HSD to determine wich pairs are different.\n",
    "plt.clf()\n",
    "sns.boxplot(x=heart.cp, y=heart.thalach)\n",
    "plt.show()\n",
    "\n",
    "thalach_typical = heart.thalach[heart.cp == 'typical angina']\n",
    "thalach_asymptom = heart.thalach[heart.cp == 'asymptomatic']\n",
    "thalach_nonangin = heart.thalach[heart.cp == 'non-anginal pain']\n",
    "thalach_atypical = heart.thalach[heart.cp == 'atypical angina']\n",
    "\n",
    "fstat, pval3 = f_oneway(thalach_typical, thalach_asymptom, thalach_nonangin, thalach_atypical)\n",
    "print('P value:', pval3)\n",
    "\n",
    "tukey = pairwise_tukeyhsd(heart.thalach, heart.cp, 0.05)\n",
    "print(tukey)"
   ]
  },
  {
   "cell_type": "code",
   "execution_count": 40,
   "id": "843bcbe9-93c5-4b38-9734-ac8f6a386a8c",
   "metadata": {},
   "outputs": [
    {
     "name": "stdout",
     "output_type": "stream",
     "text": [
      "cp             asymptomatic  atypical angina  non-anginal pain  typical angina\n",
      "heart_disease                                                                 \n",
      "absence                  39               41                68              16\n",
      "presence                105                9                18               7\n",
      "1.2517106007837527e-17\n"
     ]
    }
   ],
   "source": [
    "# Finally, we investigate the relationship bewtween cp and diagnosis through a chi-squared test because these variables are categorical\n",
    "\n",
    "Xtab = pd.crosstab(heart.heart_disease, heart.cp)\n",
    "print(Xtab)\n",
    "\n",
    "chi2, pval, dof, expected = chi2_contingency(Xtab)\n",
    "print(pval)"
   ]
  }
 ],
 "metadata": {
  "kernelspec": {
   "display_name": "Python 3 (ipykernel)",
   "language": "python",
   "name": "python3"
  },
  "language_info": {
   "codemirror_mode": {
    "name": "ipython",
    "version": 3
   },
   "file_extension": ".py",
   "mimetype": "text/x-python",
   "name": "python",
   "nbconvert_exporter": "python",
   "pygments_lexer": "ipython3",
   "version": "3.9.7"
  }
 },
 "nbformat": 4,
 "nbformat_minor": 5
}
